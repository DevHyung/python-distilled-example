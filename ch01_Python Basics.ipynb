{
 "cells": [
  {
   "cell_type": "markdown",
   "id": "cc606d20-1e5f-45f9-878c-7c24c04acac5",
   "metadata": {},
   "source": [
    "## 1장 파이썬 기초 \n",
    "책의 1p ~ 44p까지의 해당하는 내용입니다. </br>\n",
    "해당 코드는 python 3.11.X 버전에서 작성되었으며 최소 3.7+ 버전에서 정상 동작가능하니 </br>\n",
    "환경설정 구성에 참조 부탁드립니다. </br>\n",
    "(필자가 책을 쓸 당시 python은 3.9버전, 번역자가 사용한 python은 3.8버전입니다.)\n",
    "\n",
    "옮긴이의 글에서 \n",
    "> 이 책은 다른 프로그래밍 언어를 능숙히 쓰는 독자가 파이썬을 배우고자 할 때 유용한 책입니다. ..., </br>\n",
    "그래도 이 책으로 도전하려 한다면 처음부터 모든 내용을 하나도 빠짐없이 꼼꼼히 살펴보면서 읽기 바랍니다. ..., </br>\n",
    "잊고 있던 파이썬의 내용을 복습하는 것은 물론, 파이썬의 고급 기능에 대한 인사이트를 많이 얻게 될 것입니다.\n",
    "\n",
    "라는 문구를 보고 오랫동안 파이썬을 사용하고 이 언어로 나름 많은 개발을 했었지만서도, </br>\n",
    "내가 파이썬을 잘 하는 사람인가? 에 대해서는 항상 확신을 못 한 나를 발견하였습니다. </br>\n",
    "\n",
    "Java나 C, C++, objective C, JS, TS 등의 언어를 할 수는 있어도 </br>\n",
    "Python 만큼 매력적인 언어는 없었습니다. 그럼에도 불구하고 나 이 언어 잘 알아 ! </br>\n",
    "라고 말 할 수 있는 언어 한 가지 정도는 올해에 만들고 싶다는 도전욕에 </br>\n",
    "잘 하지 못하는 정리고 리뷰지만 열심히 해보고자합니다.</br>\n",
    "\n",
    "부족하지만 좋게봐주시면 감사하겠습니다.. :<  </br>\n",
    "틀린 부분 있으면 리퀘주시면 빠르게 반영토록 하겠습니다. </br>\n",
    "이 못난 코드 읽고 시간내주셔서 감사하단 말씀 먼저 드립니다. <br>\n",
    "**박형준 올림**"
   ]
  },
  {
   "cell_type": "markdown",
   "id": "af7c15e1-97e8-4c15-b4f1-fd4572bc8ffc",
   "metadata": {},
   "source": [
    "---\n",
    "## 1.1 파이썬 실행 \n",
    "![nn](./img/ch01_1.png)\n",
    "\n",
    "Python은 인터프리터 언어이다. 코드가 어셈블리어로 컴파일되기 전에 런타임 시에 인터프리팅되어 실행된다. </br>\n",
    "인터프리터의 핵심은 bash와 같은 명령 shell에서 python을 입력해 시작하는 CLI 기반 응용프로그램이다. </br>\n",
    "인터프리터가 시작되면, '읽기-평가-출력(REPL) 루프'에 command를 입력할 수 있는 프롬프트가 나타난다. </br>\n",
    "위의 사진이 간다나한 Python 사용 예제이다. </br>\n",
    "\n",
    "추가적으로 `_` (언더스코어) 변수는 최종 연산 결과를 담는 변수라고 책에서 설명한다. </br>\n",
    "여기에 대해서 Python docs에서는 아래처럼 설명함 \n",
    "> In a case pattern within a match statement, _ is a soft keyword that denotes a wildcard.</br>\n",
    "Separately, the interactive interpreter makes the result of the last evaluation available </br>\n",
    "in the variable _. (It is stored in the builtins module, alongside built-in functions like print.)\n",
    "\n",
    "나의 경우에는 아래처럼 for문을 쓰되 iterable한 객체에 접근 할 </br>\n",
    "pointer 변수의 naming이 필요없을때 사용했었다. 이 사용법이 잘못된건지는 </br>\n",
    "나중에 반복문챕터에서 한 번 더 다뤄보겠다.\n"
   ]
  },
  {
   "cell_type": "code",
   "execution_count": 15,
   "id": "ca9c2468-0cf8-4819-a872-a2c68ae287a5",
   "metadata": {},
   "outputs": [
    {
     "name": "stdout",
     "output_type": "stream",
     "text": [
      "좋은 책 감사합니다.\n",
      "좋은 책 감사합니다.\n",
      "좋은 책 감사합니다.\n"
     ]
    }
   ],
   "source": [
    "# _ 언더스코어 변수 사용 예 (나)\n",
    "for _ in range(3):\n",
    "    # 3번을 반복하는 게 중요하며, for문안에서 iterator를 사용 할 필요가 없는 경우\n",
    "    print('좋은 책 감사합니다.') "
   ]
  },
  {
   "cell_type": "markdown",
   "id": "f259fb1f-f21b-49ff-82cb-ad8c450775bc",
   "metadata": {},
   "source": [
    "---\n",
    "## 1.2 파이썬 프로그램 \n",
    "\n",
    "```in 'hello.py'``` <br>\n",
    "```python\n",
    "#!/YOUR/PYTHON/PATH python3\n",
    "#-*- encoding:utf8 -*-\n",
    "print('Hello World')\n",
    "```\n",
    "으로 작성 후 저 스크립트 파일을 실행하려면 <br>\n",
    "```bash\n",
    "shell % dchmod +x hello.py # if UNIX\n",
    "shell % python3 hello.py\n",
    "Hello World\n",
    "```\n",
    "의 결과를 얻을 수 있다. \n",
    "첫째줄의 `#!`로 인터프리터 지정을 <br>\n",
    "둘째줄의 UTF-8 인코딩을 쓴다고 명시적으로 설정 가능하다 \n"
   ]
  },
  {
   "cell_type": "markdown",
   "id": "9004abdc-69f8-48db-9b99-fe2d19c542cd",
   "metadata": {},
   "source": [
    "---\n",
    "## 1.3 기본 자료형, 변수 그리고 표현식\n",
    "어느정도의 기본적인 문법을 사용할 줄 아는 사람들이 독자층으로 삼아서 기본적인 정수,실수,bool,str은 생략 <br>\n",
    "추가로 `type hint` 에 대해서 써보고자 한다.\n",
    "\n",
    "책 1장에서의 `type hint`는 코드의 가독성을 높이려고 사용했고, 서드파티 코드 검사도구에 사용된다 <br>\n",
    "라고 적어주셨다. 이 부분도 맞지만 Python 기반 BE를 짤때 외부에서 API로 호출하는 parameter 값의 <br>\n",
    "Validation check 부분에서 FastAPI기준으로 `type hint`를 쓰냐 안쓰냐에따라 기본적으로 <br>\n",
    "어느정도의 유효성을 체크해주지만 User Defined 한 object 타입에 대해서 체크해주는 결과가 달랐다 <br>\n",
    "그래서 최대한 `type hint`를 써주는것이 가독성 뿐만 아니라 프로그램의 안정성이나 오동작을 줄이는 <br>\n",
    "측면에서도 상당한 효과가 있다고 생각을 함 ! 아래의 코드를 예시로 적어둠 \n",
    "\n",
    "추가로 원래의 list변수의 typing을 예전에는 <br>\n",
    "from typing import List 해서 : List 로 쓴 거 같은데 <br>\n",
    "어느순간 버전이후 기존 파이썬의 list 도 사용가능하게 바뀌었다. <br>\n",
    "(매우편해짐 굳)\n"
   ]
  },
  {
   "cell_type": "code",
   "execution_count": 27,
   "id": "982d81f4-a7e5-4f7a-834a-b46e7904474b",
   "metadata": {},
   "outputs": [
    {
     "name": "stdout",
     "output_type": "stream",
     "text": [
      "      2024 - 1050.00↙\n",
      "      2025 - 1102.50↙\n",
      "      2026 - 1157.62↙\n",
      "      2027 - 1215.51↙\n",
      "      2028 - 1276.28↙\n",
      "      2029 - 1340.10↙\n",
      "      2030 - 1407.10↙\n"
     ]
    }
   ],
   "source": [
    "# normal vs type hint \n",
    "x = 42\n",
    "x: int = 42\n",
    "\n",
    "y = [1,2,3,4,5]\n",
    "y: list[int] = [1,2,3,4,5]\n",
    "\n",
    "\n",
    "def foo(x):\n",
    "    # x가 string이 넘어온다고 생각하면 아래는 동작할까?\n",
    "    return x.strip() \n",
    "\n",
    "\n",
    "def foo_hint(x: str):\n",
    "    return x.strip()\n",
    "\n",
    "\n",
    "principal: int = 1000\n",
    "rate: float = 0.05\n",
    "start_year = 2024\n",
    "end_year = 2030\n",
    "\n",
    "while start_year <= end_year:\n",
    "    principal *= 1 + rate\n",
    "    print(f'{start_year:>10d} - {principal:0.2f}', end='↙\\n')\n",
    "    start_year += 1"
   ]
  },
  {
   "attachments": {},
   "cell_type": "markdown",
   "id": "04610a44-418e-4e42-bbba-588475151434",
   "metadata": {},
   "source": [
    "---\n",
    "## 1.4 산술 연산자\n",
    "기본 파이썬에서 제공하는 사칙연산외 산술 연산자들이 나옴 <br>\n",
    "\n",
    "추가적으로 몰랐던 건 <br>\n",
    "- `//`의 이름이 floor division이라는 바닥 나누기라고 함\n",
    "- `round()`함수를 banker's rounding=은행원식 반올림이라고 내가 생각한 방식과는<br>조금은 다르게 동작했음=정수를 2로 나누어 소수점이 생기면 가까운 짝수로 반올림 \n",
    "- Python의 비트값의 overflow를 허용하지 않아 shift 연산 시 유저 메모리만큼 커질 수 있다<br>ㄴ 어 그러고보니 python은 integer 하나 크기가 몇 Byte일까? \n"
   ]
  },
  {
   "cell_type": "code",
   "execution_count": 36,
   "id": "6bfd3be8-8b75-4290-9920-cc052b9e95fe",
   "metadata": {},
   "outputs": [
    {
     "name": "stdout",
     "output_type": "stream",
     "text": [
      "2\n",
      "0\n"
     ]
    }
   ],
   "source": [
    "\"\"\" 아래의 결과를 미리 예상해보세요 \"\"\"\n",
    "# 아래는 당연하죠?\n",
    "print(round(1.5))\n",
    "# 아래의 결과는요? 1 or 0 ?  \n",
    "print(round(0.5))"
   ]
  },
  {
   "cell_type": "markdown",
   "id": "55d9558b-dcc0-48ed-b432-169925d67ce7",
   "metadata": {},
   "source": [
    "---\n",
    "## 1.5 조건식과 제어 흐름\n",
    "예전 백엔드 면접 질문에서 if-elif-else와 try-except-else 의 동작의 차이를 물어봤던 <br>\n",
    "경험이 떠올랐던 챕터 + 여기에 pass와 continue의 차이도 \n",
    "\n",
    "이 챕터에서는 python의 삼항연산자구현과 `:=`연산자 walrus operator=바다코끼리 연산자 <br>\n",
    "의 예제를 남겨볼까 한다. 생각보다 바다코끼리 연산자 활용도가 좋다 <br>\n",
    "선언할당과 동시에 조건문으로 연계해서 쓰는 그 코드축약의 맛 <br>\n",
    "생각보다 모든 연산에 ()를 감싸야하는거만 잘 지키면 쓰기 편함 ! "
   ]
  },
  {
   "cell_type": "code",
   "execution_count": 38,
   "id": "63b2edbc-58fd-4718-8ea3-bcfaac298f5c",
   "metadata": {},
   "outputs": [
    {
     "name": "stdout",
     "output_type": "stream",
     "text": [
      "나는 X세대 :D\n"
     ]
    }
   ],
   "source": [
    "\"\"\" Python의 삼항연산자 구현 \"\"\"\n",
    "age = 30\n",
    "\n",
    "what_u_call = 'X' if age > 29 else 'MZ'\n",
    "print(f'나는 {what_u_call}세대 :D')"
   ]
  },
  {
   "cell_type": "code",
   "execution_count": 42,
   "id": "be0b3803-6ced-488f-b4c2-1b29bfb6b151",
   "metadata": {},
   "outputs": [
    {
     "name": "stdout",
     "output_type": "stream",
     "text": [
      "1,2,3,4,5,6,7,8,9,\n",
      "1,2,3,4,5,6,7,8,9,"
     ]
    }
   ],
   "source": [
    "\"\"\" 바다코끼리 연산자 \"\"\"\n",
    "x = 0 \n",
    "while (x := x+1) < 10:\n",
    "    print(x, end = ',')\n",
    "print()\n",
    "\n",
    "\n",
    "# same result\n",
    "x = 1\n",
    "while x < 10:\n",
    "    print(x, end=',')\n",
    "    x += 1"
   ]
  },
  {
   "cell_type": "markdown",
   "id": "2d0c3b7a-50ff-4471-90da-77d1616ebe28",
   "metadata": {},
   "source": [
    "---\n",
    "## 1.6 문자열\n",
    "Python은 다른 컴파일러들의 언어처럼 char와 str을 구분을 하지 않았던게 신기했고 지금도 신기하다<br>\n",
    "어떻게 보면 그 차이때문에 string 처리가 편한건가..? \n",
    "\n",
    "포맷팅에 대해서 세가지 방식이 있는데 그 비교를 잠깐 코드로 설명하고 넘어갈까 한다 <br>\n",
    "모아놓고 보니 점점 코드를 줄이는게 조금 유행인거 같기도 하다 :D \n",
    "\n",
    "그리고 요새는 .removeprefix() .removesuffix() 잘 쓰고있다 <br>\n",
    "python3.9+ 부터 나온 거 같은데 기억상 나름 유용하게 잘 쓰고있음 \n",
    "\n",
    "추가로 str(), repr()의 결과가 다르다는것도 처음 알게됨 ! <br>\n",
    "repr()은 사용자가 입력한 값 그대로 객체를 뱉어낸다."
   ]
  },
  {
   "cell_type": "code",
   "execution_count": 54,
   "id": "905c50ac-52e7-4854-86d0-659adeb0b99c",
   "metadata": {},
   "outputs": [
    {
     "name": "stdout",
     "output_type": "stream",
     "text": [
      "2024년에는 30.40살\n",
      "2024년에는 30.40살\n",
      "2024년에는 30.40살\n"
     ]
    }
   ],
   "source": [
    "\"\"\" 시대별 유행을 타는 string formatting? \"\"\"\n",
    "\n",
    "year: int = 2024\n",
    "age: float = 30.4\n",
    "\n",
    "# 예~~~전 유행\n",
    "print('%4d년에는 %0.2f살' % (year, age))\n",
    "\n",
    "# 조금 예전 유행\n",
    "print('{0:>4d}년에는 {1:0.2f}살'.format(year, age))\n",
    "\n",
    "# 요즘것 \n",
    "print(f'{year:>4d}년에는 {age:0.2f}살')"
   ]
  },
  {
   "cell_type": "code",
   "execution_count": 55,
   "id": "e66129b1-3cb8-400a-b839-3d5a9afe3e62",
   "metadata": {},
   "outputs": [
    {
     "name": "stdout",
     "output_type": "stream",
     "text": [
      "Before:  xyxyxyxyxy | yzyzyzyzyz 5\n",
      "After:     xyxyxyxy | yzyzyzyzyz 4\n",
      "Before:  xyxyxyxyxy | yzyzyzyzyz 5\n",
      "After:   xyxyxyxyxy | yzyzyzyz 4\n"
     ]
    }
   ],
   "source": [
    "\"\"\" removeprefix(), removesuffix() e.g. \"\"\"\n",
    "\n",
    "line = \"xy\"*5+\" | \"+\"yz\"*5\n",
    "prefix = \"xy\"\n",
    "line_new = line.removeprefix(prefix)\n",
    "print(\"Before: \", line, line.count(prefix))\n",
    "print(\"After:    \", line_new, line_new.count(prefix))\n",
    "\n",
    "suffix = \"yz\"\n",
    "line_new = line.removesuffix(suffix)\n",
    "print(\"Before: \", line, line.count(suffix))\n",
    "print(\"After:  \", line_new, line_new.count(suffix))"
   ]
  },
  {
   "cell_type": "code",
   "execution_count": 58,
   "id": "7c7762cd-dee8-4a2c-8ee1-b4d0c0803d18",
   "metadata": {},
   "outputs": [
    {
     "name": "stdout",
     "output_type": "stream",
     "text": [
      "hello \n",
      " world\n",
      "~~~~~~~~~~~~~~~~~~~~~~~~~~~~~~~~~~~~~~~~~~~~~~~~~~\n",
      "'hello \\n world'\n"
     ]
    }
   ],
   "source": [
    "\"\"\" diff str(), repr() \"\"\"\n",
    "\n",
    "origin_str = 'hello \\n world'\n",
    "print(str(origin_str))\n",
    "print(\"~\"*50)\n",
    "print(repr(origin_str))"
   ]
  },
  {
   "cell_type": "markdown",
   "id": "c8ad0a7a-8864-4958-9711-e28f32648b2f",
   "metadata": {},
   "source": [
    "---\n",
    "## 1.7 파일 입출력 \n",
    "기본적으로 with절이랑 같이 써서 파일 객체가 사용될 블록문을 선언해서 구간이 끝나면 <br>\n",
    "자동으로 객체 소멸자호출해서 종료해주는 같이쓰는 문법은 많이 쓰고 있을거라 생각한다.\n",
    "\n",
    "여기서는 C++식의 file읽기 방식이지만 바다코끼리 연산자랑 같이해서 파일을 읽는 예제를 <br>\n",
    "하나 남겨보고자 한다.\n"
   ]
  },
  {
   "cell_type": "code",
   "execution_count": null,
   "id": "446ec6eb-ef57-46ff-ae40-bc438305852e",
   "metadata": {},
   "outputs": [],
   "source": [
    "\"\"\" file read wth := \"\"\"\n",
    "\n",
    "with open('YOUR_FILE', 'r', encoding='utf-8') as f:\n",
    "    while (chunk := f.read(10000)):\n",
    "        print(chunk, end=' ')"
   ]
  },
  {
   "cell_type": "markdown",
   "id": "0b3c1402-af2b-4090-b63e-5ddae5cf393d",
   "metadata": {},
   "source": [
    "---\n",
    "## 1.8 리스트\n",
    "책에서 다루는 리스트의 내용은 Python을 조금이라도 해봤으면 보통 다 아실만한 내용입니다.\n",
    "\n",
    "여기서 생각나는게 코테 silver+ 급을 풀다보면 가끔 2d+의 list를 출력해야 할 경우 <br>\n",
    "조금 신선하게 출력하는 방법이생각나서 남겨봅니다"
   ]
  },
  {
   "cell_type": "code",
   "execution_count": 66,
   "id": "96979e50-f8b1-4615-832b-886d1793d16d",
   "metadata": {},
   "outputs": [
    {
     "name": "stdout",
     "output_type": "stream",
     "text": [
      "[[0, 1, 2, 3, 4], [5, 6, 7, 8, 9], [10, 11, 12, 13, 14], [15, 16, 17, 18, 19], [20, 21, 22, 23, 24]]\n",
      "\n",
      "[0, 1, 2, 3, 4]\n",
      "[5, 6, 7, 8, 9]\n",
      "[10, 11, 12, 13, 14]\n",
      "[15, 16, 17, 18, 19]\n",
      "[20, 21, 22, 23, 24]\n",
      "\n",
      "[0, 1, 2, 3, 4]\n",
      "[5, 6, 7, 8, 9]\n",
      "[10, 11, 12, 13, 14]\n",
      "[15, 16, 17, 18, 19]\n",
      "[20, 21, 22, 23, 24]\n"
     ]
    }
   ],
   "source": [
    "\"\"\" 5 X 5 matrix 출력하기 \"\"\"\n",
    "\n",
    "matrix = [[r * 5 + c for c in range(5)] for r in range(5)]\n",
    "print(matrix)\n",
    "print()\n",
    "\n",
    "# 기본\n",
    "for row in matrix:\n",
    "    print(row)\n",
    "print()\n",
    "\n",
    "# print만 사용\n",
    "print(*matrix, sep=\"\\n\")"
   ]
  },
  {
   "cell_type": "markdown",
   "id": "d9ef82d4-0651-40e5-8307-a815a6c118ca",
   "metadata": {},
   "source": [
    "---\n",
    "## 1.9 튜플\n",
    "튜플은 생각보다 연산자의 ()와 튜플의 ()를 구분하기 힘든 <br>\n",
    "1개짜리 튜플을\n",
    "```python\n",
    "b = (item,)\n",
    "```\n",
    "로 만드는 거 빼곤 거의 사용하는 방식이 유사했다. <br>\n"
   ]
  },
  {
   "cell_type": "markdown",
   "id": "7547aadc-3d33-429f-b5dd-8b31abf7fb4a",
   "metadata": {},
   "source": [
    "---\n",
    "## 1.10 집합\n",
    "집합도 우리가 통상적으로 알고있는 집합과 거의 흡사 <br>\n",
    "| 합, &교, -차집합, ^대칭차집합 등의 연산자가있다정도? <br>\n",
    "조금 특이했던건 정보처리기사에서는 .update()가 되게 많이 나온다는점!? "
   ]
  },
  {
   "cell_type": "markdown",
   "id": "713ed4ee-d273-408f-bf77-0bfb7e00cb80",
   "metadata": {},
   "source": [
    "---\n",
    "## 1.11 사전\n",
    "dict 부분에서는 은근 알아두면 쓸데있는 꿀팁들이 좀 있었다. <br>\n",
    "dict다루는 부분은 k-v in-memory Redis에서도 거의 문법이 유사하기에 알아두면 좋음 <br>\n",
    "최근 pydantic 이나 FastAPI를 써보면 자주쓰는 기법들이 있어서 아래에 메모를 ! \n",
    "- dict.get()\n",
    "- **dict\n",
    "인데 아래의 코드와 같이 설명하겠다 "
   ]
  },
  {
   "cell_type": "code",
   "execution_count": 82,
   "id": "85240dc3-0ce5-4c19-b1b1-1fb5aa6c0610",
   "metadata": {},
   "outputs": [
    {
     "name": "stdout",
     "output_type": "stream",
     "text": [
      "30\n",
      "미설정\n",
      "~~~~~~~~~~~~~~~~~~~~~~~~~~~~~~~~~~~~~~~~~~~~~~~~~~\n",
      "age name job\n",
      "이름: name, 나이: age, 직업: job\n",
      "이름: 박형준, 나이: 30, 직업: SW Engineer\n",
      "age 30\n",
      "name 박형준\n",
      "job SW Engineer\n"
     ]
    }
   ],
   "source": [
    "\"\"\" Dict의 get, *dict, **dict \"\"\"\n",
    "# dict.get()\n",
    "datas = {\n",
    "    'age' : 30,\n",
    "    'name' : '박형준',\n",
    "    'job' : 'SW Engineer'\n",
    "}\n",
    "print(datas.get('age','미설정'))\n",
    "print(datas.get('gender','미설정')) # 만약 없다면 초기화, redis에서도 자주 쓰임 \n",
    "print(\"~\"*50)\n",
    "\n",
    "\n",
    "# dict * operator\n",
    "print(*datas)\n",
    "\n",
    "# print(**datas) # 옆의 print는 에러가 남 하지만 이건 함수랑 같이 쓰면 유용함\n",
    "from typing import Union\n",
    "def foo(age: int, name: Union[str, None], job: Union[str, None]):\n",
    "    print(f\"이름: {name}, 나이: {age}, 직업: {job}\")\n",
    "\n",
    "def foo_kwargs(**kwargs):\n",
    "    for k, v in kwargs.items():\n",
    "        print(k, v)\n",
    "\n",
    "\n",
    "foo(*datas)\n",
    "foo(**datas)\n",
    "foo_kwargs(**datas)"
   ]
  },
  {
   "cell_type": "markdown",
   "id": "8cdf4fb7-8fd4-46f9-9b5e-a20753ed5090",
   "metadata": {},
   "source": [
    "---\n",
    "## 1.12 반복과 루프 \n",
    "1장에서 다루기 보다는 for루프를 제공하는 iterator object나 generator function을 <br>\n",
    "사용자가 직접 만들 수 있기 때문에 이건 6장에서 다룸 "
   ]
  },
  {
   "cell_type": "markdown",
   "id": "99e47ce4-ab3a-461a-96ef-88aa8460fb41",
   "metadata": {},
   "source": [
    "---\n",
    "## 1.13 함수\n",
    "기본적으로 모두 다 아는 통상적인 내용을 다루지만 `type hint`를 가미한 함수 선언을 조금 남겨보고자한다 "
   ]
  },
  {
   "cell_type": "code",
   "execution_count": 84,
   "id": "4b6f6bbc-6040-4602-84d6-6f9c4d042247",
   "metadata": {},
   "outputs": [
    {
     "data": {
      "text/plain": [
       "1.5"
      ]
     },
     "execution_count": 84,
     "metadata": {},
     "output_type": "execute_result"
    }
   ],
   "source": [
    "\"\"\" function + type hint \"\"\" \n",
    "\n",
    "# no hint\n",
    "def remainder(a, b):\n",
    "    q = a // b\n",
    "    r = a - (q * b)\n",
    "    return r\n",
    "\n",
    "# type hint\n",
    "def remainder_hint(a: int, b: int) -> int:\n",
    "    q = a // b\n",
    "    r = a - (q * b)\n",
    "    return r\n",
    "\n",
    "# 따로 validation을 체크하지않는 hint는 런타임에 강제하지않음 \n",
    "remainder_hint(10.3, 2.2)"
   ]
  },
  {
   "cell_type": "markdown",
   "id": "8ba6bcc2-14ee-4531-a96d-9c58c723065f",
   "metadata": {},
   "source": [
    "---\n",
    "## 1.14 예외 \n",
    "프로그램에서 에러가 발생하면 except가 발생하고, Traceback이 호출됨.<br>\n",
    "보통 에러가나면 그 뒤의 코드라인은 실행되지않지만 에러가 나는 상황을 미리 try~except<br>\n",
    "로 감싸서 그 에러에 대한 처리가 가능함\n",
    "\n",
    "추가로 try+except+else+finally 구문에서 어떠한 조건에 어떠한 구문들이 <br>\n",
    "실행되는지 알아두면 나름 쓸모있엇다. "
   ]
  },
  {
   "cell_type": "code",
   "execution_count": 97,
   "id": "6b9f26d6-24ee-483b-8e01-3cb34a46d398",
   "metadata": {},
   "outputs": [
    {
     "name": "stdout",
     "output_type": "stream",
     "text": [
      "division by zero\n",
      "finally\n"
     ]
    }
   ],
   "source": [
    "\"\"\" Try Except 예제, else와 finally는 언제 실행될까? \"\"\"\n",
    "try:\n",
    "    print( 10 / 0 ) # 만약 이 구문이 정상적이였다면 아래가 실행됨\n",
    "    raise RuntimeError(\"Test\")    \n",
    "except RuntimeError as e:\n",
    "    print(e)\n",
    "except Exception as e:\n",
    "    print(e)\n",
    "else:\n",
    "    print('else')\n",
    "finally:\n",
    "    print(\"finally\")\n"
   ]
  },
  {
   "cell_type": "markdown",
   "id": "798b8df5-1438-4fcf-9668-ef0caafe5e7e",
   "metadata": {},
   "source": [
    "---\n",
    "## 1.15 프로그램 종료\n",
    "프로그램에서 더 이상 실행할 문장이 없거나 잡히지 않는 SystemExit 예외가 발생하면 프로그램은 종료\n",
    "\n",
    "따로 \n",
    "```python\n",
    "raise SystemExit()\n",
    "raise SystemExit(\"Some Message\")\n",
    "exit(-1)\n",
    "```\n",
    "의 방식으로 종료를 할 수 있음 \n",
    "\n",
    "인터프리터는 종료할 때 인스턴스 객체들을 모두 GC하기위해 노력함.<br>\n",
    "파일삭제나 연결 종료 등 특별한 작업을 수행하려면 atexit 모듈에 등록할 수 있음<br>\n",
    "=> 소멸자 호출할때 동적할당해제느낌이랑 비슷 "
   ]
  },
  {
   "cell_type": "code",
   "execution_count": null,
   "id": "8880f52e-a080-4507-bb1f-e2572f5d5073",
   "metadata": {},
   "outputs": [],
   "source": [
    "import atexit\n",
    "\n",
    "connection = open_connection(\"deaddot.com\")\n",
    "\n",
    "def cleanup() -> None:\n",
    "    print('Going away...')\n",
    "    close_connection(connection)\n",
    "\n",
    "atexit.register(cleanup)"
   ]
  },
  {
   "cell_type": "markdown",
   "id": "9bdad274-3326-4992-9b67-f8740ab2b823",
   "metadata": {},
   "source": [
    "---\n",
    "## 1.16 객체와 클래스\n",
    "Python 안에서 쓰이는 값은 모두 object임.\n",
    "\n",
    "`__*__` 이런식의 메서드는 special method라고함<br>\n",
    "기존 C,C++에서 말하는 _ is simil protected, __ is simil private 느낌이있지만 <br>\n",
    "정확히 일치하지는 않다 비유하자면 비슷하단 것 \n",
    "\n",
    "하지만 항상 상속만이 최선의 해결책은 아님<br>\n",
    "간혹 `composition`을 예로 별개의 개념, 서로 다른 종류의 객체로 생각해<br>\n",
    "클래스가 필요한 속성만을 다른 클래스에서 가져와 사용하기도 함 <br>\n",
    "이 내용은 7장에서 다룬다 "
   ]
  },
  {
   "cell_type": "code",
   "execution_count": null,
   "id": "6d015382-37dd-4179-8e33-de7d38c051f1",
   "metadata": {},
   "outputs": [],
   "source": [
    "# 아래의 코드를 실행하면 dict의 내장함수를 볼 수 있음\n",
    "dir(dict)"
   ]
  },
  {
   "cell_type": "code",
   "execution_count": 103,
   "id": "82899329-d1f8-454f-aa26-e12bc0286918",
   "metadata": {},
   "outputs": [
    {
     "name": "stdout",
     "output_type": "stream",
     "text": [
      "<Stack at 0x10cdc1ae0, size=3>\n",
      "3 2\n"
     ]
    }
   ],
   "source": [
    "\"\"\" Class e.g. \"\"\"\n",
    "class Stack:\n",
    "    def __init__(self):\n",
    "        self._items: list[int] = [] \n",
    "\n",
    "    def push(self, item: int):\n",
    "        self._items.append(item)\n",
    "\n",
    "    def pop(self) -> int:\n",
    "        return self._items.pop()\n",
    "\n",
    "    def __repr__(self):\n",
    "        return f'<{type(self).__name__} at 0x{id(self):x}, size={len(self)}>'\n",
    "\n",
    "    def __len__(self) -> int:\n",
    "        return len(self._items)\n",
    "\n",
    "s = Stack()\n",
    "s.push(1994)\n",
    "s.push(2)\n",
    "s.push(3)\n",
    "print(s)\n",
    "\n",
    "x = s.pop()\n",
    "y = s.pop()\n",
    "print(x, y)"
   ]
  },
  {
   "cell_type": "code",
   "execution_count": 108,
   "id": "d275db48-abbd-4c20-9075-e29f0156b785",
   "metadata": {},
   "outputs": [
    {
     "name": "stdout",
     "output_type": "stream",
     "text": [
      "1994\n"
     ]
    }
   ],
   "source": [
    "\"\"\" 클래스 상속 \"\"\"\n",
    "class MyStack(Stack):\n",
    "    def swap(self: Stack) -> None:\n",
    "        top = self.pop()\n",
    "        down = self.pop()\n",
    "        self.push(top)\n",
    "        self.push(down)\n",
    "\n",
    "\n",
    "ms = MyStack()\n",
    "ms.push(1994)\n",
    "ms.push(23)\n",
    "ms.swap()\n",
    "print(ms.pop())"
   ]
  },
  {
   "cell_type": "code",
   "execution_count": 112,
   "id": "34a3db44-ba45-437a-980b-bf54e9a9bf3a",
   "metadata": {},
   "outputs": [
    {
     "ename": "TypeError",
     "evalue": "Not int",
     "output_type": "error",
     "traceback": [
      "\u001b[0;31m---------------------------------------------------------------------------\u001b[0m",
      "\u001b[0;31mTypeError\u001b[0m                                 Traceback (most recent call last)",
      "Cell \u001b[0;32mIn[112], line 10\u001b[0m\n\u001b[1;32m      8\u001b[0m ns \u001b[38;5;241m=\u001b[39m NumericStack()\n\u001b[1;32m      9\u001b[0m ns\u001b[38;5;241m.\u001b[39mpush(\u001b[38;5;241m19940203\u001b[39m)\n\u001b[0;32m---> 10\u001b[0m \u001b[43mns\u001b[49m\u001b[38;5;241;43m.\u001b[39;49m\u001b[43mpush\u001b[49m\u001b[43m(\u001b[49m\u001b[38;5;124;43m\"\u001b[39;49m\u001b[38;5;124;43m형준\u001b[39;49m\u001b[38;5;124;43m\"\u001b[39;49m\u001b[43m)\u001b[49m\n",
      "Cell \u001b[0;32mIn[112], line 5\u001b[0m, in \u001b[0;36mNumericStack.push\u001b[0;34m(self, item)\u001b[0m\n\u001b[1;32m      3\u001b[0m \u001b[38;5;28;01mdef\u001b[39;00m \u001b[38;5;21mpush\u001b[39m(\u001b[38;5;28mself\u001b[39m, item: \u001b[38;5;28mint\u001b[39m):\n\u001b[1;32m      4\u001b[0m     \u001b[38;5;28;01mif\u001b[39;00m \u001b[38;5;129;01mnot\u001b[39;00m \u001b[38;5;28misinstance\u001b[39m(item, (\u001b[38;5;28mint\u001b[39m)):\n\u001b[0;32m----> 5\u001b[0m         \u001b[38;5;28;01mraise\u001b[39;00m \u001b[38;5;167;01mTypeError\u001b[39;00m(\u001b[38;5;124m'\u001b[39m\u001b[38;5;124mNot int\u001b[39m\u001b[38;5;124m'\u001b[39m)\n\u001b[1;32m      6\u001b[0m     \u001b[38;5;28msuper\u001b[39m()\u001b[38;5;241m.\u001b[39mpush(item)\n",
      "\u001b[0;31mTypeError\u001b[0m: Not int"
     ]
    }
   ],
   "source": [
    "\"\"\" super() 키워드 \"\"\"\n",
    "class NumericStack(Stack):\n",
    "    def push(self, item: int):\n",
    "        if not isinstance(item, (int)):\n",
    "            raise TypeError('Not int')\n",
    "        super().push(item)\n",
    "\n",
    "ns = NumericStack()\n",
    "ns.push(19940203)\n",
    "ns.push(\"형준\")"
   ]
  },
  {
   "cell_type": "markdown",
   "id": "fdb6f591-2799-4600-99fd-8b478cc5ed7e",
   "metadata": {},
   "source": [
    "---\n",
    "## 1.17 모듈\n",
    "파이썬은 오픈소스 라이브러리로 남들이 만들어 둔 패키지를 자유롭게 이용가능 <br>\n",
    "패키지를 구성하는건 모듈들의 집합.<br>\n",
    "\n",
    "alias 개념처럼 import [module] as md 처럼 qualifier를 써서 불러오기가능 "
   ]
  },
  {
   "cell_type": "markdown",
   "id": "f1b8beea-c3b9-4660-9606-863d4993a0b5",
   "metadata": {},
   "source": [
    "---\n",
    "## 1.18 스크립트 작성\n",
    "```python\n",
    "if __name__ == \"__main__\":\n",
    "    print(\"메인구문\")\n",
    "```\n",
    "을 작성할때 __name__은 현재 모듈의 이름을 담고 있는 내장 변수<br>\n",
    "이게 직접 실행할때는 `__main__`으로 불리지만 import로 불러올떄는 파일이름이 됨 <br>\n",
    "이걸로 직접실행할때의 dev로의 디버그와 <br> \n",
    "모듈로의 불렀을때의 API상태에서의 쓰임을 따로 테스트하기 편함\n",
    "\n",
    "여기에 추가적으로 sys.argv 리스트를 이용해서 입력받으면 커맨드랑 <br>\n",
    "입력파라미터들을 같이 받기가 편함 "
   ]
  },
  {
   "cell_type": "code",
   "execution_count": 115,
   "id": "a226a49c-8687-4b64-986f-56d5ecdd161c",
   "metadata": {},
   "outputs": [],
   "source": [
    "import sys\n",
    "\n",
    "def main(argv):\n",
    "    if len(argv) == 1:\n",
    "        filename = input('Enter filename:')\n",
    "    elif len(argv) == 2:\n",
    "        # 보통 [0]은 python \n",
    "        filename = argv[1]\n",
    "\n",
    "if __name__ == \"__main__\":\n",
    "    main(sys.argv)    "
   ]
  },
  {
   "cell_type": "markdown",
   "id": "fc1cd623-0f81-4d84-9dbe-adc49866da49",
   "metadata": {},
   "source": [
    "---\n",
    "## 1.19 패키지\n",
    "기존에는 패키지 디렉토리안에 `__init__.py`가 존재했었어야하는데 python3.3+ 버전부터는 <br>\n",
    "없어도 패키지로 인식한다고함 PEP420. 하지만 호환성을 위해 파일생성 권장"
   ]
  },
  {
   "cell_type": "markdown",
   "id": "f0ae6138-e73f-4b84-8836-cdfb028c6dd8",
   "metadata": {},
   "source": [
    "---\n",
    "## 1.20 응용 프로그램의 구조화 \n",
    "구조화하는데 다양한 방법이 존재 하지만 필수적으로 반드시 알아야할 몇가지만 소개 <br>\n",
    "1. `__init__.py`를 포함하는 디렉터리로 구성하는게 관행\n",
    "2. 최상위 티렉터리 이름을 고유한 패키지 이름으로 선택\n",
    "\n",
    "```\n",
    "tutorial-project/\n",
    "    ㄴtutorial/\n",
    "        ㄴ__init__.py\n",
    "        ㄴreadport.py\n",
    "        ㄴpcost.py\n",
    "        ㄴstack.py\n",
    "        ㄴ...\n",
    "    ㄴtest/\n",
    "        ㄴtest_stack.py\n",
    "    ㄴexamples/\n",
    "        ㄴsample.py\n",
    "    ㄴdoc/\n",
    "        ㄴtutorial.txt\n",
    "```"
   ]
  },
  {
   "cell_type": "markdown",
   "id": "2d27fb32-e7a5-4be8-8626-4f586b66ad52",
   "metadata": {},
   "source": [
    "---\n",
    "## 1.21 서드파티 패키지의 관리 \n",
    "pip를 이용해서 보통 패키지들을 관리하면 좋음 <br>\n",
    "단 base interpreter를 두고 venv를 만드는것도 좋다 \n",
    "```bash\n",
    "$ python3 -m venv YOUR_VENV\n",
    "$ source YOUR_VENV/bin/activate\n",
    "(YOUR_VENV) $ pip install jupyter\n",
    "```\n",
    "라고 하면 기존 Python으로 새로운 venv환경 Python을 만든 뒤 <br>\n",
    "그 파이썬에서 해당하는 jupyter 패키지를 새롭게 다운받을 수 있음"
   ]
  },
  {
   "cell_type": "markdown",
   "id": "cb5e9bcb-0be7-44c6-bea1-ec7eec2e071d",
   "metadata": {},
   "source": [
    "---\n",
    "## 1.22 파이써닉한 파이썬: 두뇌에 맞는 언어 \n",
    "맨날 파이써닉하게 짜라 파이써닉하게 짜라 !! 했는데 드디어 뭔 뜻인지 알았다 <br>\n",
    "파이썬의 초기 모토는 = it fits your brain = 두뇌에 맞는 언어였다. <br>\n",
    "오늘날에도 파이썬의 핵심은 list,set,dict같은 유용한 내장 객체와 함께하는 작은 PL이다 <br>\n",
    "문제를 해결하는 데 복잡한 방법도 있지만, 파이썬이 이미 제공하는 기능을 사용해 해결하는 간단함도잇다 <br>\n",
    "UD function말고 내장함수를 잘 써보자 "
   ]
  },
  {
   "cell_type": "code",
   "execution_count": null,
   "id": "8a12b056-79f3-4fc8-9f69-ed4bc5e04da3",
   "metadata": {},
   "outputs": [],
   "source": []
  }
 ],
 "metadata": {
  "kernelspec": {
   "display_name": "Python 3 (ipykernel)",
   "language": "python",
   "name": "python3"
  },
  "language_info": {
   "codemirror_mode": {
    "name": "ipython",
    "version": 3
   },
   "file_extension": ".py",
   "mimetype": "text/x-python",
   "name": "python",
   "nbconvert_exporter": "python",
   "pygments_lexer": "ipython3",
   "version": "3.10.10"
  }
 },
 "nbformat": 4,
 "nbformat_minor": 5
}
